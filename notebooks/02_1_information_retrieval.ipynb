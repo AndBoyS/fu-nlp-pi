{
 "cells": [
  {
   "cell_type": "markdown",
   "id": "8185d715",
   "metadata": {},
   "source": [
    "# Imports"
   ]
  },
  {
   "cell_type": "code",
   "execution_count": 1,
   "id": "d6c41c87",
   "metadata": {},
   "outputs": [],
   "source": [
    "from sklearn.feature_extraction.text import TfidfVectorizer\n",
    "import numpy as np"
   ]
  },
  {
   "cell_type": "markdown",
   "id": "de42f073",
   "metadata": {},
   "source": [
    "# Информационный поиск\n",
    "\n",
    "__Автор задач: Блохин Н.В. (NVBlokhin@fa.ru)__\n",
    "\n",
    "Материалы: \n",
    "* https://nlp.stanford.edu/~manning/xyzzy/Intro_Inform_Retrieval_Russian.pdf\n",
    "* https://en.wikipedia.org/wiki/Jaccard_index\n",
    "* https://en.wikipedia.org/wiki/TF-IDF\n",
    "* https://en.wikipedia.org/wiki/Okapi_BM25"
   ]
  },
  {
   "cell_type": "markdown",
   "id": "afcdb9cf",
   "metadata": {},
   "source": [
    "## Задачи для совместного разбора"
   ]
  },
  {
   "cell_type": "markdown",
   "id": "0ac7edf6",
   "metadata": {},
   "source": [
    "1\\. Дан корпус текстов. Построить прямой и обратный индексы для слов из текста"
   ]
  },
  {
   "cell_type": "code",
   "execution_count": null,
   "id": "64a308df",
   "metadata": {},
   "outputs": [],
   "source": [
    "corpus = [\n",
    "    \"Первым специальным индексом для запросов с джокером общего вида является перестановочный индекс\",\n",
    "    \"Методы усовершенствования индексов для расширения функциональных возможностей и повышения скорости поиска\"\n",
    "]"
   ]
  },
  {
   "cell_type": "markdown",
   "id": "da9e4c12",
   "metadata": {},
   "source": [
    "Логика реализации прямого индекса\n",
    "\n",
    "```python\n",
    "raw_index = {\n",
    "    news_i: [lemmatize(token) for token in tokenize(text))]\n",
    "    for news_i, text in enumerate(corpus)\n",
    "}\n",
    "```\n",
    "\n",
    "Логика реализации обратного индекса\n",
    "\n",
    "```python\n",
    "from collections import defaultdict\n",
    "\n",
    "\n",
    "inverted_index: dict[str, list[int]] = defaultdict(list)\n",
    "\n",
    "for news_i, normalized_words in raw_index.items():\n",
    "    for normalized_word in normalized_words:\n",
    "        inverted_index[normalized_word].append(news_i)token in tokenize(text))]\n",
    "    for news_i, text in enumerate(corpus)\n",
    "}\n",
    "```"
   ]
  },
  {
   "cell_type": "markdown",
   "id": "d4772498",
   "metadata": {},
   "source": [
    "2\\. Посчитать индекс Жаккара для предложений из заданного корпуса. "
   ]
  },
  {
   "cell_type": "code",
   "execution_count": null,
   "id": "5b7555e9",
   "metadata": {},
   "outputs": [],
   "source": [
    "def jaccard_index(a: set, b: set) -> float:\n",
    "    numerator = len(a & b)\n",
    "    denominator = len(a | b)\n",
    "    return numerator / denominator"
   ]
  },
  {
   "cell_type": "markdown",
   "id": "610d0f40",
   "metadata": {},
   "source": [
    "## Задачи для самостоятельного решения"
   ]
  },
  {
   "cell_type": "markdown",
   "id": "ed0981f2",
   "metadata": {},
   "source": [
    "<p class=\"task\" id=\"1\"></p>\n",
    "\n",
    "1\\. Считайте тексты новостей из файла `news.json`. Назовём прямым индексом словарь, где ключами являются номера новостей, а значениями - списки нормализованных слов, входящих в эту новость. Номер новости определяется ее положением в файле. Назовём обратным индексом словарь, где ключами являются нормальные формы слов, а значениями - множества номеров новостей, которые содержат данное слово (не обязательно в нормальной форме). Постройте прямой и обратный индекс. Выведите из длины на экран. Выведите значения обратного индекса по ключу \"москва\"."
   ]
  },
  {
   "cell_type": "markdown",
   "id": "14129c09",
   "metadata": {},
   "source": [
    "<p class=\"task\" id=\"2\"></p>\n",
    "\n",
    "2\\. Для каждого документа из текста определите, как часто слова этого документа встречаются в заданном тексте, воспользовавшись обратным индексом. Выведите на экран текст топ-3 новостей, наиболее похожих по набору токенов на заданный текст. Выведите на экран текст найденных новостей и количество совпадающих токенов."
   ]
  },
  {
   "cell_type": "code",
   "execution_count": null,
   "id": "d01d117e",
   "metadata": {},
   "outputs": [],
   "source": [
    "example = \"Жириновский предложил перенести столицу из Москвы\""
   ]
  },
  {
   "cell_type": "markdown",
   "id": "976c770a",
   "metadata": {},
   "source": [
    "<p class=\"task\" id=\"3\"></p>\n",
    "\n",
    "3\\. Для заданного текста новости найдите топ-3 наиболее похожих новости, воспользовавшись коэффициентом Жаккара. Для определения количества общих слов в тексте используйте обратный индекс.  Выведите на экран текст найденных новостей и значение коэффициента Жаккара для каждой новости."
   ]
  },
  {
   "cell_type": "code",
   "execution_count": null,
   "id": "e3803082",
   "metadata": {},
   "outputs": [],
   "source": [
    "example = \"Жириновский предложил перенести столицу из Москвы\""
   ]
  },
  {
   "attachments": {
    "image-2.png": {
     "image/png": "[encoded data removed]"
    },
    "image-3.png": {
     "image/png": "[encoded data removed]"
    },
    "image.png": {
     "image/png": "[encoded data removed]"
    }
   },
   "cell_type": "markdown",
   "id": "0d7f7cd3",
   "metadata": {},
   "source": [
    "<p class=\"task\" id=\"4\"></p>\n",
    "\n",
    "4\\. Реализуйте функцию для расчета TF-IDF.\n",
    " \n",
    "![image.png](attachment:image.png)\n",
    "\n",
    "![image-2.png](attachment:image-2.png)\n",
    "\n",
    "![image-3.png](attachment:image-3.png)\n",
    "\n",
    "Для расчета обратной частоты документа воспользуйтесь обратным индексом из предыдущей задачи. При расчете IDF добавьте сглаживание, прибавив единицу к числителю и знаменателю дроби."
   ]
  },
  {
   "cell_type": "code",
   "execution_count": 3,
   "id": "e3045bc8",
   "metadata": {},
   "outputs": [
    {
     "data": {
      "text/plain": [
       "0.0"
      ]
     },
     "execution_count": 3,
     "metadata": {},
     "output_type": "execute_result"
    }
   ],
   "source": [
    "# Примерная реализация\n",
    "\n",
    "corpus = [\n",
    "    \"This is the first document.\",\n",
    "    \"This document is the second document.\",\n",
    "    \"And this is the third one.\",\n",
    "    \"Is this the first document?\",\n",
    "]\n",
    "\n",
    "doc_id = 0\n",
    "term = \"this\"\n",
    "\n",
    "doc_text = corpus[doc_id].lower()\n",
    "\n",
    "tf = doc_text.count(term) / len(doc_text.split())\n",
    "df: int = len([doc for doc in corpus if term in doc.lower()])\n",
    "idf = np.log((len(corpus) + 1) / (df + 1))\n",
    "tf * idf"
   ]
  },
  {
   "cell_type": "markdown",
   "id": "0228dd96",
   "metadata": {},
   "source": [
    "<p class=\"task\" id=\"5\"></p>\n",
    "\n",
    "5\\. Используя собственную реализацию TF-IDF, закодируйте новости. Результатом должна являться матрица `MxN`, где `M` - количество новостей в корпусе, `N` - размер обратного индекса. Выведите форму полученной матрицы на экран."
   ]
  },
  {
   "cell_type": "markdown",
   "id": "9f1e0fe2",
   "metadata": {},
   "source": [
    "<p class=\"task\" id=\"6\"></p>\n",
    "\n",
    "6\\. Для заданного текста новости найдите топ-3 наиболее похожих новости, воспользовавшись матрицей TF-IDF из предыдущего задания. Для определения схожести используйте функцию косинусного расстояния. Выведите на экран текст найденных новостей и значение метрики близости для каждой новости."
   ]
  },
  {
   "cell_type": "code",
   "execution_count": null,
   "id": "2c85148d",
   "metadata": {},
   "outputs": [],
   "source": [
    "example = \"Жириновский предложил перенести столицу из Москвы\""
   ]
  },
  {
   "cell_type": "markdown",
   "id": "dfab2314",
   "metadata": {},
   "source": [
    "<p class=\"task\" id=\"7\"></p>\n",
    "\n",
    "7\\. Для заданного текста новости найдите топ-3 наиболее похожих новости, воспользовавшись собственной реализацией функции ранжирования [BM25](https://en.wikipedia.org/wiki/Okapi_BM25). Выведите на экран текст найденных новостей и значение метрики ранжирования для каждой новости."
   ]
  },
  {
   "cell_type": "code",
   "execution_count": null,
   "id": "e8738a1b",
   "metadata": {},
   "outputs": [],
   "source": [
    "example = \"Жириновский предложил перенести столицу из Москвы\""
   ]
  },
  {
   "cell_type": "markdown",
   "id": "724b1c9c",
   "metadata": {},
   "source": [
    "## Обратная связь\n",
    "- [ ] Хочу получить обратную связь по решению"
   ]
  }
 ],
 "metadata": {
  "kernelspec": {
   "display_name": "Python 3 (ipykernel)",
   "language": "python",
   "name": "python3"
  },
  "language_info": {
   "codemirror_mode": {
    "name": "ipython",
    "version": 3
   },
   "file_extension": ".py",
   "mimetype": "text/x-python",
   "name": "python",
   "nbconvert_exporter": "python",
   "pygments_lexer": "ipython3",
   "version": "3.10.9"
  }
 },
 "nbformat": 4,
 "nbformat_minor": 5
}
