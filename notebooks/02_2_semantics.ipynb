{
 "cells": [
  {
   "cell_type": "markdown",
   "id": "2289cf16",
   "metadata": {},
   "source": [
    "# Imports"
   ]
  },
  {
   "cell_type": "code",
   "execution_count": 1,
   "id": "99e10712",
   "metadata": {},
   "outputs": [
    {
     "name": "stderr",
     "output_type": "stream",
     "text": [
      "[nltk_data] Downloading package wordnet to\n",
      "[nltk_data]     C:\\Users\\anvbakhmatov\\AppData\\Roaming\\nltk_data...\n",
      "[nltk_data]   Package wordnet is already up-to-date!\n",
      "[nltk_data] Downloading package omw-1.4 to\n",
      "[nltk_data]     C:\\Users\\anvbakhmatov\\AppData\\Roaming\\nltk_data...\n",
      "[nltk_data]   Package omw-1.4 is already up-to-date!\n"
     ]
    },
    {
     "data": {
      "text/plain": [
       "True"
      ]
     },
     "execution_count": 1,
     "metadata": {},
     "output_type": "execute_result"
    }
   ],
   "source": [
    "import nltk\n",
    "from nltk.corpus import wordnet as wn\n",
    "\n",
    "nltk.download('wordnet')\n",
    "nltk.download('omw-1.4')"
   ]
  },
  {
   "cell_type": "markdown",
   "id": "334530cd",
   "metadata": {},
   "source": [
    "# Компьютерная семантика\n",
    "\n",
    "__Автор задач: Блохин Н.В. (NVBlokhin@fa.ru)__\n",
    "\n",
    "Материалы: \n",
    "* https://www.nltk.org/howto/wordnet.html\n",
    "* https://ruwordnet.ru/ru\n",
    "* https://habr.com/ru/companies/unistar_digital/articles/687148/\n",
    "* https://www.scaler.com/topics/nlp/wordnet-in-nlp/"
   ]
  },
  {
   "cell_type": "markdown",
   "id": "afcdb9cf",
   "metadata": {},
   "source": [
    "## Задачи для совместного разбора"
   ]
  },
  {
   "cell_type": "markdown",
   "id": "9fff32f5",
   "metadata": {},
   "source": [
    "### Синсеты - демонстрация"
   ]
  },
  {
   "cell_type": "code",
   "execution_count": 2,
   "id": "032e13d3",
   "metadata": {},
   "outputs": [
    {
     "name": "stdout",
     "output_type": "stream",
     "text": [
      "dog.n.01 - a member of the genus Canis (probably descended from the common wolf) that has been domesticated by man since prehistoric times; occurs in many breeds\n",
      "frump.n.01 - a dull unattractive unpleasant girl or woman\n",
      "dog.n.03 - informal term for a man\n",
      "cad.n.01 - someone who is morally reprehensible\n",
      "frank.n.02 - a smooth-textured sausage of minced beef or pork usually smoked; often served on a bread roll\n",
      "pawl.n.01 - a hinged catch that fits into a notch of a ratchet to move a wheel forward or prevent it from moving backward\n",
      "andiron.n.01 - metal supports for logs in a fireplace\n",
      "chase.v.01 - go after with the intent to catch\n"
     ]
    }
   ],
   "source": [
    "for synset in wn.synsets('dog'):\n",
    "    print(synset.name(), '-', synset.definition())"
   ]
  },
  {
   "cell_type": "code",
   "execution_count": 4,
   "id": "03868204",
   "metadata": {},
   "outputs": [
    {
     "name": "stdout",
     "output_type": "stream",
     "text": [
      "dog.n.01 - [Synset('basenji.n.01'), Synset('corgi.n.01'), Synset('cur.n.01'), Synset('dalmatian.n.02'), Synset('great_pyrenees.n.01'), Synset('griffon.n.02'), Synset('hunting_dog.n.01'), Synset('lapdog.n.01'), Synset('leonberg.n.01'), Synset('mexican_hairless.n.01'), Synset('newfoundland.n.01'), Synset('pooch.n.01'), Synset('poodle.n.01'), Synset('pug.n.01'), Synset('puppy.n.01'), Synset('spitz.n.01'), Synset('toy_dog.n.01'), Synset('working_dog.n.01')]\n",
      "frump.n.01 - []\n",
      "dog.n.03 - []\n",
      "cad.n.01 - [Synset('perisher.n.01')]\n",
      "frank.n.02 - [Synset('vienna_sausage.n.01')]\n",
      "pawl.n.01 - []\n",
      "andiron.n.01 - []\n",
      "chase.v.01 - [Synset('hound.v.01'), Synset('quest.v.02'), Synset('run_down.v.07'), Synset('tree.v.03')]\n"
     ]
    }
   ],
   "source": [
    "for synset in wn.synsets('dog'):\n",
    "    print(synset.name(), '-', synset.hyponyms())"
   ]
  },
  {
   "cell_type": "code",
   "execution_count": 7,
   "id": "ca6e61ca",
   "metadata": {},
   "outputs": [
    {
     "name": "stdout",
     "output_type": "stream",
     "text": [
      "dog.n.01 - [Synset('canis.n.01'), Synset('pack.n.06')]\n",
      "frump.n.01 - []\n",
      "dog.n.03 - []\n",
      "cad.n.01 - []\n",
      "frank.n.02 - []\n",
      "pawl.n.01 - []\n",
      "andiron.n.01 - []\n",
      "chase.v.01 - []\n"
     ]
    }
   ],
   "source": [
    "for synset in wn.synsets('dog'):\n",
    "    print(synset.name(), '-', synset.member_holonyms())"
   ]
  },
  {
   "cell_type": "markdown",
   "id": "c05553c9",
   "metadata": {},
   "source": [
    "1\\. Дано описание классов `Sence` и `Synset`. Создайте объект `Synset` на основе файлов из `data/rwn`."
   ]
  },
  {
   "cell_type": "code",
   "execution_count": null,
   "id": "5b1c62b1",
   "metadata": {},
   "outputs": [],
   "source": [
    "from dataclasses import dataclass, field\n",
    "\n",
    "@dataclass\n",
    "class Sense:\n",
    "    id: str\n",
    "    name: str\n",
    "    lemma: str\n",
    "    main_word: str\n",
    "    synt_type: str\n",
    "    poses: str\n",
    "    synset_id: str\n",
    "    meaning: str\n",
    "\n",
    "@dataclass\n",
    "class Synset:\n",
    "    id: str\n",
    "    ruthes_name: str\n",
    "    definition: str\n",
    "    part_of_speech: str\n",
    "    senses: list[Sense] = field(default_factory=list)\n",
    "    hyponyms: list[\"Synset\"] = field(default_factory=list, repr=False)\n",
    "    hypernyms: list[\"Synset\"] = field(default_factory=list, repr=False)  "
   ]
  },
  {
   "cell_type": "markdown",
   "id": "610d0f40",
   "metadata": {},
   "source": [
    "## Задачи для самостоятельного решения"
   ]
  },
  {
   "cell_type": "markdown",
   "id": "c13ab336",
   "metadata": {},
   "source": [
    "<p class=\"task\" id=\"1\"></p>\n",
    "\n",
    "1\\. На основе файлов `rwn/synsets.A.xml`, `rwn/synsets.N.xml` и `rwn/synsets.V.xml` создайте словарь `synsets`, где ключом является ID синсета, а значением - объекта класса `Synset`. Поля `senses`, `hyponyms`, `hypernyms` оставьте со значениями по умолчанию. Выведите количество объектов в полученном словаре на экран.\n",
    "\n",
    "- [ ] Проверено на семинаре"
   ]
  },
  {
   "cell_type": "markdown",
   "id": "a9a857c6",
   "metadata": {},
   "source": [
    "<p class=\"task\" id=\"2\"></p>\n",
    "\n",
    "2\\. Обновите поле `senses` у объектов в словаре `synsets` на основе файлов `rwn/senses.A.xml`, `rwn/senses.N.xml` и `rwn/senses.V.xml`. Выведите на экран среднее количество синонимов у синсетов.\n",
    "\n",
    "- [ ] Проверено на семинаре"
   ]
  },
  {
   "cell_type": "markdown",
   "id": "0b01f96d",
   "metadata": {},
   "source": [
    "<p class=\"task\" id=\"3\"></p>\n",
    "\n",
    "3\\. Проанализируйте, какие типы отношений представлены в файле `rwn/relation.xml`. Выведите множество типов отношений на экран.\n",
    "Обновите поля `hyponyms` и `hypernyms` у объектов в словаре `synsets` на основе файла `rwn/relation.xml`.\n",
    "\n",
    "- [ ] Проверено на семинаре"
   ]
  },
  {
   "cell_type": "markdown",
   "id": "ca2816e6",
   "metadata": {},
   "source": [
    "<p class=\"task\" id=\"4\"></p>\n",
    "\n",
    "4\\. Напишите функцию `find_by_name`, которая ищет синсеты по вхождению заданного слова в поле `ruthes_name`. При поиске приводите введенное слово к нормальной форме и не учитывайте регистр слов. Функция должна вернуть список, отсортированный по возрастаю значений расстояния Левенштейна между названием синсета и введенным словом. Продемонстрируйте, какие синсеты находятся по слову \"собака\".\n",
    "\n",
    "- [ ] Проверено на семинаре"
   ]
  },
  {
   "cell_type": "markdown",
   "id": "a7b9daab",
   "metadata": {},
   "source": [
    "<p class=\"task\" id=\"5\"></p>\n",
    "\n",
    "5\\. Для пары слов \"собака\" и \"кошка\" найдите ближайший общий родительский синсет и выведите на экран его название. Синсет `A` назовем родительским синсетом синсета `B`, если от `B` можно подняться к `A` в таксономии синсетов, используя отношения гиперонимии. Найдите общий родительский синсет для пары слов \"кошка\" и \"студент\" и выведите на экран его название.\n",
    "\n",
    "- [ ] Проверено на семинаре"
   ]
  },
  {
   "cell_type": "markdown",
   "id": "9a306bef",
   "metadata": {},
   "source": [
    "<p class=\"task\" id=\"6\"></p>\n",
    "\n",
    "6\\. Для каждого слова из представленного текста найдите все возможные синонимы. Набор синонимов получите на основе поля `senses` у объектов `Synset`. В случае обнаружения точного совпадения введенного слова хотя бы с одним элементом из `senses`, весь набор `senses` трактуйте как синонимы. При поиске приводите слово к нормальной форме и не учитывайте регистр слов. \n",
    "\n",
    "Составьте все возможные вариации данного предложения, заменяя слова на найденные синонимы. В случае отсутствия синонимов для какого-то из слов, используйте исходное слово для генерации предложения. Выведите на экран общее количество перефразированных предложений.\n",
    "\n",
    "- [ ] Проверено на семинаре"
   ]
  },
  {
   "cell_type": "code",
   "execution_count": null,
   "id": "b4b0cc9c",
   "metadata": {},
   "outputs": [],
   "source": [
    "text = \"Студент ужаснулся когда увидел задачу\""
   ]
  },
  {
   "cell_type": "markdown",
   "id": "724b1c9c",
   "metadata": {},
   "source": [
    "## Обратная связь\n",
    "- [ ] Хочу получить обратную связь по решению"
   ]
  }
 ],
 "metadata": {
  "kernelspec": {
   "display_name": "Python 3 (ipykernel)",
   "language": "python",
   "name": "python3"
  },
  "language_info": {
   "codemirror_mode": {
    "name": "ipython",
    "version": 3
   },
   "file_extension": ".py",
   "mimetype": "text/x-python",
   "name": "python",
   "nbconvert_exporter": "python",
   "pygments_lexer": "ipython3",
   "version": "3.10.9"
  }
 },
 "nbformat": 4,
 "nbformat_minor": 5
}
