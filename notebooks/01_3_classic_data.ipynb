{
 "cells": [
  {
   "cell_type": "markdown",
   "id": "3c1e3af2",
   "metadata": {},
   "source": [
    "# Подготовка текстовых датасетов на основе популярных форматов данных\n",
    "\n",
    "__Автор задач: Блохин Н.В. (NVBlokhin@fa.ru)__\n",
    "\n",
    "Материалы: \n",
    "* https://tabula-py.readthedocs.io/en/latest/getting_started.html\n",
    "* https://pypdf2.readthedocs.io/en/3.0.0/user/extract-text.html\n",
    "* https://python-docx.readthedocs.io/en/latest/\n",
    "* https://theautomatic.net/2019/10/14/how-to-read-word-documents-with-python/\n",
    "* https://github.com/madmaze/pytesseract"
   ]
  },
  {
   "cell_type": "markdown",
   "id": "afcdb9cf",
   "metadata": {},
   "source": [
    "## Задачи для совместного разбора"
   ]
  },
  {
   "cell_type": "code",
   "execution_count": 1,
   "id": "503c34c5",
   "metadata": {},
   "outputs": [
    {
     "name": "stdout",
     "output_type": "stream",
     "text": [
      "Defaulting to user installation because normal site-packages is not writeable\n",
      "Requirement already satisfied: tabula-py in c:\\users\\anvbakhmatov\\appdata\\roaming\\python\\python310\\site-packages (2.9.0)\n",
      "Requirement already satisfied: numpy in c:\\programdata\\anaconda3\\lib\\site-packages (from tabula-py) (1.24.3)\n",
      "Requirement already satisfied: distro in c:\\users\\anvbakhmatov\\appdata\\roaming\\python\\python310\\site-packages (from tabula-py) (1.9.0)\n",
      "Requirement already satisfied: pandas>=0.25.3 in c:\\programdata\\anaconda3\\lib\\site-packages (from tabula-py) (2.0.3)\n",
      "Requirement already satisfied: pytz>=2020.1 in c:\\programdata\\anaconda3\\lib\\site-packages (from pandas>=0.25.3->tabula-py) (2022.7)\n",
      "Requirement already satisfied: python-dateutil>=2.8.2 in c:\\programdata\\anaconda3\\lib\\site-packages (from pandas>=0.25.3->tabula-py) (2.8.2)\n",
      "Requirement already satisfied: tzdata>=2022.1 in c:\\programdata\\anaconda3\\lib\\site-packages (from pandas>=0.25.3->tabula-py) (2023.3)\n",
      "Requirement already satisfied: six>=1.5 in c:\\programdata\\anaconda3\\lib\\site-packages (from python-dateutil>=2.8.2->pandas>=0.25.3->tabula-py) (1.16.0)\n",
      "Note: you may need to restart the kernel to use updated packages.\n",
      "Defaulting to user installation because normal site-packages is not writeable\n",
      "Requirement already satisfied: tabula-py[jpype] in c:\\users\\anvbakhmatov\\appdata\\roaming\\python\\python310\\site-packages (2.9.0)\n",
      "Requirement already satisfied: distro in c:\\users\\anvbakhmatov\\appdata\\roaming\\python\\python310\\site-packages (from tabula-py[jpype]) (1.9.0)\n",
      "Requirement already satisfied: numpy in c:\\programdata\\anaconda3\\lib\\site-packages (from tabula-py[jpype]) (1.24.3)\n",
      "Requirement already satisfied: pandas>=0.25.3 in c:\\programdata\\anaconda3\\lib\\site-packages (from tabula-py[jpype]) (2.0.3)\n",
      "Requirement already satisfied: jpype1 in c:\\users\\anvbakhmatov\\appdata\\roaming\\python\\python310\\site-packages (from tabula-py[jpype]) (1.5.0)\n",
      "Requirement already satisfied: python-dateutil>=2.8.2 in c:\\programdata\\anaconda3\\lib\\site-packages (from pandas>=0.25.3->tabula-py[jpype]) (2.8.2)\n",
      "Requirement already satisfied: pytz>=2020.1 in c:\\programdata\\anaconda3\\lib\\site-packages (from pandas>=0.25.3->tabula-py[jpype]) (2022.7)\n",
      "Requirement already satisfied: tzdata>=2022.1 in c:\\programdata\\anaconda3\\lib\\site-packages (from pandas>=0.25.3->tabula-py[jpype]) (2023.3)\n",
      "Requirement already satisfied: packaging in c:\\programdata\\anaconda3\\lib\\site-packages (from jpype1->tabula-py[jpype]) (22.0)\n",
      "Requirement already satisfied: six>=1.5 in c:\\programdata\\anaconda3\\lib\\site-packages (from python-dateutil>=2.8.2->pandas>=0.25.3->tabula-py[jpype]) (1.16.0)\n",
      "Note: you may need to restart the kernel to use updated packages.\n"
     ]
    }
   ],
   "source": [
    "%pip install tabula-py\n",
    "%pip install tabula-py[jpype]\n",
    "\n",
    "import subprocess\n",
    "from pathlib import Path\n",
    "\n",
    "import tabula\n",
    "\n",
    "repo_dir = Path(subprocess.check_output([\"git\", \"rev-parse\", \"--show-toplevel\"]).decode().strip())"
   ]
  },
  {
   "cell_type": "markdown",
   "id": "13bcb846",
   "metadata": {},
   "source": [
    "1. Считайте текстовые данные из файла demo/table.pdf"
   ]
  },
  {
   "cell_type": "code",
   "execution_count": 3,
   "id": "d6e2f9bb",
   "metadata": {},
   "outputs": [],
   "source": [
    "dfs = tabula.read_pdf(repo_dir / 'data/demo/table.pdf', pages='all')"
   ]
  },
  {
   "cell_type": "markdown",
   "id": "cc15b389",
   "metadata": {},
   "source": [
    "2. Считайте таблицу из файла demo/table.pdf. Добейтесь корректного представления таблицы."
   ]
  },
  {
   "cell_type": "markdown",
   "id": "f098e4ca",
   "metadata": {},
   "source": [
    "3. Извлеките текст из изображения data/text.jpg. Обработайте полученную строку. "
   ]
  },
  {
   "cell_type": "markdown",
   "id": "610d0f40",
   "metadata": {},
   "source": [
    "## Задачи для самостоятельного решения"
   ]
  },
  {
   "cell_type": "markdown",
   "id": "9626b430",
   "metadata": {},
   "source": [
    "<p class=\"task\" id=\"1\"></p>\n",
    "\n",
    "1\\. Считайте файл `pdf/rpd_tobd_22.pdf`. Извлеките из файла содержание дисциплины (раздел 5.1) в виде словаря, где ключ - это название темы, а значение - содержание темы. Выведите полученный словарь на экран. Выведите на экран количество тем курса."
   ]
  },
  {
   "cell_type": "markdown",
   "id": "ea2f522c",
   "metadata": {},
   "source": [
    "<p class=\"task\" id=\"2\"></p>\n",
    "\n",
    "2\\. Для всех РПД из каталога `pdf` извлеките названия и количество тем курса. Представьте результат в виде `pd.DataFrame`, где в качестве индекса выступает название файла, столбцы называются \"Тема 1\", \"Тема 2\" и т.д., а в ячейках содержится название темы (без номера). "
   ]
  },
  {
   "cell_type": "markdown",
   "id": "989c640d",
   "metadata": {},
   "source": [
    "<p class=\"task\" id=\"3\"></p>\n",
    "\n",
    "3\\. Считайте файл `pdf/rpd_tobd_22.pdf`. Извлеките из раздела 5.3 таблицу с содержанием семинаров и представьте в виде `pd.DataFrame`. Выведите на экран количество строк в полученной таблице и саму таблцу. "
   ]
  },
  {
   "cell_type": "markdown",
   "id": "d590f13c",
   "metadata": {},
   "source": [
    "<p class=\"task\" id=\"4\"></p>\n",
    "\n",
    "4\\. Считайте файл `docx/metodichka_azur_poluitog.docx`. На основе содержимого файла создайте таблицу `pd.DataFrame` со следующими столбцами: \"номер упражнение\", \"текст упражнение\", \"кол-во рисунков в тексте\". Каждый абзац в тексте упражнения должен начинаться с символа \"\\t\". Выведите полученную таблицу на экран."
   ]
  },
  {
   "cell_type": "markdown",
   "id": "ab2a40d4",
   "metadata": {},
   "source": [
    "<p class=\"task\" id=\"5\"></p>\n",
    "\n",
    "5\\. В файлах каталога `imgs` лежат 2 типа сканов: уведомления и пояснительные записки. Создайте `pd.DataFrame` с двумя столбцами: название файла и тип документа. Тип документа определите, воспользовавшись средством для распознавания текста и найдя ключевые слова."
   ]
  },
  {
   "cell_type": "markdown",
   "id": "ef07eaef",
   "metadata": {},
   "source": [
    "## Обратная связь\n",
    "- [ ] Хочу получить обратную связь по решению"
   ]
  }
 ],
 "metadata": {
  "kernelspec": {
   "display_name": "Python 3 (ipykernel)",
   "language": "python",
   "name": "python3"
  },
  "language_info": {
   "codemirror_mode": {
    "name": "ipython",
    "version": 3
   },
   "file_extension": ".py",
   "mimetype": "text/x-python",
   "name": "python",
   "nbconvert_exporter": "python",
   "pygments_lexer": "ipython3",
   "version": "3.10.9"
  }
 },
 "nbformat": 4,
 "nbformat_minor": 5
}
