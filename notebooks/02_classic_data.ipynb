{
 "cells": [
  {
   "cell_type": "markdown",
   "id": "3c1e3af2",
   "metadata": {},
   "source": [
    "# Подготовка текстовых датасетов на основе популярных форматов данных\n",
    "\n",
    "__Автор задач: Блохин Н.В. (NVBlokhin@fa.ru)__\n",
    "\n",
    "Материалы: \n",
    "* https://tabula-py.readthedocs.io/en/latest/getting_started.html\n",
    "* https://pypdf2.readthedocs.io/en/3.0.0/user/extract-text.html\n",
    "* https://python-docx.readthedocs.io/en/latest/\n",
    "* https://theautomatic.net/2019/10/14/how-to-read-word-documents-with-python/\n",
    "* https://github.com/madmaze/pytesseract"
   ]
  },
  {
   "cell_type": "markdown",
   "id": "afcdb9cf",
   "metadata": {},
   "source": [
    "## Задачи для совместного разбора"
   ]
  },
  {
   "cell_type": "markdown",
   "id": "13bcb846",
   "metadata": {},
   "source": [
    "1. Считайте текстовые данные из файла demo/table.pdf"
   ]
  },
  {
   "cell_type": "markdown",
   "id": "cc15b389",
   "metadata": {},
   "source": [
    "2. Считайте таблицу из файла demo/table.pdf. Добейтесь корректного представления таблицы."
   ]
  },
  {
   "cell_type": "markdown",
   "id": "f098e4ca",
   "metadata": {},
   "source": [
    "3. Извлеките текст из изображения data/text.jpg. Обработайте полученную строку. "
   ]
  },
  {
   "cell_type": "markdown",
   "id": "610d0f40",
   "metadata": {},
   "source": [
    "## Задачи для самостоятельного решения"
   ]
  },
  {
   "cell_type": "markdown",
   "id": "9626b430",
   "metadata": {},
   "source": [
    "<p class=\"task\" id=\"1\"></p>\n",
    "\n",
    "1\\. Считайте файл `pdf/rpd_tobd_22.pdf`. Извлеките из файла содержание дисциплины (раздел 5.1) в виде словаря, где ключ - это название темы, а значение - содержание темы. Выведите полученный словарь на экран. Выведите на экран количество тем курса."
   ]
  },
  {
   "cell_type": "markdown",
   "id": "ea2f522c",
   "metadata": {},
   "source": [
    "<p class=\"task\" id=\"2\"></p>\n",
    "\n",
    "2\\. Для всех РПД из каталога `pdf` извлеките названия и количество тем курса. Представьте результат в виде `pd.DataFrame`, где в качестве индекса выступает название файла, столбцы называются \"Тема 1\", \"Тема 2\" и т.д., а в ячейках содержится название темы (без номера). "
   ]
  },
  {
   "cell_type": "markdown",
   "id": "989c640d",
   "metadata": {},
   "source": [
    "<p class=\"task\" id=\"3\"></p>\n",
    "\n",
    "3\\. Считайте файл `pdf/rpd_tobd_22.pdf`. Извлеките из раздела 5.3 таблицу с содержанием семинаров и представьте в виде `pd.DataFrame`. Выведите на экран количество строк в полученной таблице и саму таблцу. "
   ]
  },
  {
   "cell_type": "markdown",
   "id": "d590f13c",
   "metadata": {},
   "source": [
    "<p class=\"task\" id=\"4\"></p>\n",
    "\n",
    "4\\. Считайте файл `docx/metodichka_azur_poluitog.docx`. На основе содержимого файла создайте таблицу `pd.DataFrame` со следующими столбцами: \"номер упражнение\", \"текст упражнение\", \"кол-во рисунков в тексте\". Каждый абзац в тексте упражнения должен начинаться с символа \"\\t\". Выведите полученную таблицу на экран."
   ]
  },
  {
   "cell_type": "markdown",
   "id": "ab2a40d4",
   "metadata": {},
   "source": [
    "<p class=\"task\" id=\"5\"></p>\n",
    "\n",
    "5\\. В файлах каталога `imgs` лежат 2 типа сканов: уведомления и пояснительные записки. Создайте `pd.DataFrame` с двумя столбцами: название файла и тип документа. Тип документа определите, воспользовавшись средством для распознавания текста и найдя ключевые слова."
   ]
  },
  {
   "cell_type": "markdown",
   "id": "ef07eaef",
   "metadata": {},
   "source": [
    "## Обратная связь\n",
    "- [ ] Хочу получить обратную связь по решению"
   ]
  }
 ],
 "metadata": {
  "kernelspec": {
   "display_name": "Python 3 (ipykernel)",
   "language": "python",
   "name": "python3"
  },
  "language_info": {
   "codemirror_mode": {
    "name": "ipython",
    "version": 3
   },
   "file_extension": ".py",
   "mimetype": "text/x-python",
   "name": "python",
   "nbconvert_exporter": "python",
   "pygments_lexer": "ipython3",
   "version": "3.9.13"
  }
 },
 "nbformat": 4,
 "nbformat_minor": 5
}
